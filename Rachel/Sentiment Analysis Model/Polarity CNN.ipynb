{
 "cells": [
  {
   "cell_type": "markdown",
   "metadata": {},
   "source": [
    "# Building a CNN Model to test Polarity"
   ]
  },
  {
   "cell_type": "markdown",
   "metadata": {},
   "source": [
    "### Import Packages and Libraries"
   ]
  },
  {
   "cell_type": "code",
   "execution_count": 43,
   "metadata": {},
   "outputs": [],
   "source": [
    "from __future__ import absolute_import, division, print_function, unicode_literals\n",
    "import tensorflow as tf\n",
    "from tensorflow.keras import layers\n",
    "import numpy as np\n",
    "import pandas as pd\n",
    "import re\n",
    "import gensim\n",
    "from gensim import corpora\n",
    "from gensim import similarities\n",
    "from gensim import models\n",
    "from sklearn.model_selection import train_test_split\n",
    "from sklearn.metrics import classification_report, accuracy_score, confusion_matrix, f1_score\n",
    "import nltk\n",
    "from nltk.corpus import stopwords\n",
    "from nltk.stem.porter import *"
   ]
  },
  {
   "cell_type": "markdown",
   "metadata": {},
   "source": [
    "### Dataset\n"
   ]
  },
  {
   "cell_type": "code",
   "execution_count": 103,
   "metadata": {},
   "outputs": [
    {
     "name": "stdout",
     "output_type": "stream",
     "text": [
      "[['fast', 'delivery', 'and', 'bubble', 'wrapped'], ['i', 'have', 'yet', 'to', 'try', 'it', 'out...............'], ['i', 'chooose', 'the', 'colour', 'very', 'dull', 'i', 'dont', 'like', 'to', 'use', 'it', 'anymore', '.'], ['but', 'the', 'i', 'get', 'on', 'flash', 'deal', 'so', 'still', 'worth', 'it', 'the', 'price'], ['shipping', 'took', 'one', 'week'], ['pretty', 'but', 'will', 'have', 'to', 'mix', 'color', 'to', 'wear', 'on', 'lips', 'heh', 'thanks', 'seller!'], ['packing', 'leak'], ['handy', 'for', 'travel'], ['good', 'deal', 'considering', 'the', 'brand'], ['package', 'arrived', 'sooner', 'than', 'expected', 'and', 'well', 'packaged', 'as', 'well'], [\"can't\", 'wait', 'to', 'test', 'this', 'out!'], ['overall', 'is', 'a', 'good', 'buy', 'to', 'try', 'the', 'product', '^^'], ['delivery', 'was', 'really', 'fast'], ['packing', 'for', 'small', 'item', 'fuss', 'free', 'and', 'neat'], ['however', 'product', 'is', 'really', 'sticky'], ['i', 'have', 'tried', 'other', 'colours', 'before', 'but', 'this', 'particular', 'one', 'is', 'so', 'sticky', 'even', 'after', 'using', 'makeup', 'remover', 'on', 'the', 'lips,', 'my', 'lips', 'were', 'just', 'dry', 'and', 'still', 'sticky'], ['prolly', 'wont', 'use', 'again'], ['next', 'day', 'delivery'], ['fast', 'shipping', 'and', 'excellent', 'product', ':)', 'thanks!'], ['very', 'worth', 'to', 'buy'], ['received', 'in', 'good', 'condition'], ['arrived', 'super', 'quick,', '2', 'days', 'after', 'i', 'ordered'], ['product', 'cake', 'well', 'protected'], ['fast', 'delivery', 'and', 'got', 'it', 'for', '$1', 'during', 'flash', 'sales.yet', 'to', 'try.'], ['delivered', 'the', 'next', 'say', 'after', 'bought.got', 'it', 'for', '99cents.yet', 'to', 'try.'], ['fast', 'delivedy', 'and', 'item', 'in', 'good', 'condition'], ['worth', 'it', 'at', 'only', '1buck!', 'some', 'more', 'it', 'smells', 'really', 'nice!'], ['smells', 'good', 'and', 'colour', 'very', 'strong'], ['received', 'after', '22', 'hours!', 'super', 'quick', 'and', 'nice'], ['received', 'fast'], ['item', 'is', 'authentic'], ['yet', 'to', 'try'], ['bought', 'during', '3.3', 'sale', 'at', 'a', 'good', 'discount'], ['pretty', 'fast', 'delivery..'], ['received', 'within', '3', 'working', 'days', 'in', 'a', 'bubble', 'wrapped', 'envelope'], ['the', 'colours', 'are', 'nice,', 'online', 'images', 'are', 'true', 'to', 'life'], ['fast', 'delivery!', 'items', 'received', 'in', 'good', 'condition'], ['yet', 'to', 'try'], ['packed', 'in', 'bubble', 'wrapped'], ['fast', 'delivery'], ['my', 'skin', 'love', 'this', 'product.'], ['product', 'is', 'great,', 'with', 'pretty', 'good', 'coverage,', 'however', 'i', 'accidentally', 'bought', 'it', 'in', 'a', 'lighter', 'tone'], ['i', 'would', 'definitely', 'buy', 'again,', 'hopefully', 'next', 'time,', 'in', 'the', 'right', 'shade'], ['fast', 'delivery!', 'ordered', 'on', 'sunday', 'night', 'and', 'received', 'on', 'tuesday', 'evening'], ['worth', 'the', 'buy'], ['good', 'price', 'for', 'the', 'good', 'product'], ['delivery', 'was', 'fast!\\r\\n', '\\r\\n', 'happy', 'to', 'deal'], ['fast', 'delivery!'], ['repeated', 'order', 'for', 'this', 'product,', 'my', 'go', 'to', 'liquid', 'foundation', 'for', 'many', 'years', 'already'], ['cheaper', 'than', 'mall', 'price', 'during', 'flash', 'deal'], ['item', 'nicely', 'sealed'], ['delivery', 'was', 'smooth', 'and', 'quick'], ['fast', 'delivery,', 'glass', 'bottle', 'was', 'packaged', 'really', 'well', 'didnt', 'have', 'any', 'defect'], ['not', 'a', 'bad', 'product', 'in', 'general.'], ['not', 'fast', 'delivery'], ['expected', 'to', 'have', 'a', 'free', 'mascara', 'as', 'it', 'says', 'it', 'has', 'says', 'on', 'the', 'flash', 'sale'], ['well', 'packed', 'and', 'received', 'in', 'good', 'condition:)', 'hoping', 'to', 'have', 'more', 'deals', 'to', 'come!'], ['but', 'the', 'delivery', 'took', 'quite', 'awhile,', 'ordered', 'on', '11.11', 'but', 'only', 'got', 'it', 'on', '28/11', 'or', 'so'], ['ordered', 'this', 'during', 'the', '11.11', 'flash', 'deal', 'but', 'received', 'only', 'at', 'the', 'end', 'of', 'the', 'month', 'so', 'the', 'delivery', 'time', 'took', 'really', 'long'], ['good', 'deal', 'purchased', 'during', 'sales'], ['fast', 'delivery!'], ['good', 'deal,', 'delivery', 'took', 'about', '2', 'weeks', 'though\\r\\n', 'cheap', 'during', 'the', 'sales'], ['got', 'this', 'on', 'flash', 'at', 'a', 'very', 'good', 'price'], ['ordered', 'during', 'the', '11.11', 'sale', 'so', 'delivery', 'took', 'awhile', 'but', 'it', 'was', 'well', 'wrapped', 'and', 'came', 'with', 'a', 'free', 'mascara', 'too!'], ['nice', 'packaging', 'fast', 'delivery'], ['ordered', 'during', 'the', '11.11', 'sale', 'and', 'took', '10', 'days', 'to', 'arrive'], ['items', 'arrived', 'quickly', 'and', 'in', 'great', 'condition'], ['received', 'in', 'good', 'condition.'], ['love', 'that', 'it', 'came', 'with', 'a', 'pump.'], ['very', 'fast', 'delivery'], ['items', 'in', 'good', 'condition'], ['delivered', 'to', 'doorstep', 'in', 'bubble', 'wrapped', 'package'], ['rly', 'like', 'this', 'foundation', 'so', 'far'], ['received', 'fast'], ['items', 'as', 'described'], ['fast', 'delivery!'], ['love', 'the', 'colour,', 'fit', 'me', 'well', 'but', 'a', 'bit', 'liquidy'], ['good', 'coverage'], ['bought', '2', 'bottles', 'during', '11.11', 'sale', 'and', 'each', 'bottle', 'is', 'almost', 'half', 'the', 'retail', 'prices!'], ['and', 'i', 'got', 'the', 'foundation', 'at', 'a', 'very', 'discounted', 'rate'], ['brand', 'new,', 'correct', 'ordered', 'shade'], ['thank', 'uuuu,', 'will', 'repurchase!'], ['item', 'was', 'shipped', 'during', 'the', 'same', 'day', 'i', 'ordered', 'and', 'was', 'delivered', 'a', 'day', 'after'], ['fast', 'delivery,', 'well', 'packed'], ['got', 'it', 'safe', 'and', 'sound!'], ['good', 'buy', '.'], ['happy', 'buyer', 'hereðÿ˜\\x8d'], ['received', '2', 'days', 'after', 'ordering'], ['sealed', 'in', 'a', 'bubble', 'wrapped', 'packaging'], ['price', 'is', 'cheaper', 'than', 'retail', ',', 'bought', 'it', 'for', '$12', 'plus'], ['very', 'quick', 'confirmation', 'and', 'delivery'], ['product', 'mfg', 'date', 'is', '072019'], ['item', 'is', 'also', 'cheaper', 'compared', 'to', 'the', 'ones', 'sold', 'in', 'drugstore'], ['received', 'item', 'in', 'good', 'condition'], ['rcved', 'my', 'parcel', 'the', 'next', 'day', 'via', 'door', 'step', 'delivery'], ['4', 'star', 'cause', 'my', 'pores', 'are', 'still', 'visible', 'after', 'application'], ['price', 'is', 'cheaper', 'compare', 'to', 'those', '2', 'giant', 'drug', 'stores'], ['well', 'received!'], ['color', '228', 'really', 'suit', 'my', 'skin', 'tone'], ['so', 'far', 'this', 'is', 'the', 'best', 'affordable', 'foundation', 'i', 'ever', 'tried'], ['only', 'deliver', 'foundation'], ['not', 'as', 'per', 'advertisement'], ['mascara', 'not', 'even', '1', 'included'], ['well', 'received'], ['happy', 'that', \"there's\", 'free', 'mascara', 'along'], ['item', 'came', 'packed', 'in', 'bubble', 'wrap'], ['been', 'using', 'it'], ['came', 'nicely', 'packaged', 'protecting', 'the', 'bottle'], ['made', 'it', 'a', 'whole', 'lot', 'easier', 'to', 'use'], ['definitely', 'a', 'bargain'], ['product', 'came', 'in', '2', 'days'], ['gotten', 'a', 'free', 'mascara', 'too'], ['great', 'value', 'for', 'money', 'one', 'of', 'my', 'fave', 'foundations', 'ever'], ['arrived', 'well', 'packed'], ['delivery', 'was', 'super', 'quick'], ['item', 'arrived', 'in', 'perfect', 'condition!'], ['super', 'fast', 'delivery'], ['order', 'yesterday', 'received', 'today'], ['even', 'tried', 'the', 'pump'], ['fast', 'delivery'], ['received', 'it', 'just', 'in', 'time'], ['i', 'will', 'be', 'trying', 'this', 'new', 'shade'], ['bought', 'during', 'flash', 'deal'], ['good', 'buy', 'plus', 'it', 'comes', 'with', 'a', 'small', 'gift'], ['heard', 'good', 'reviews', 'about', 'this', 'product'], ['thanks', 'for', 'the', 'freebie', 'too'], ['good', 'delivery', 'to', 'door', 'step'], ['bought', 'as', 'a', 'gift,', 'i', 'never', 'try', 'it'], ['hope', 'it', 'is', 'good.'], ['good', 'to', 'use'], ['fast', 'delivered.'], ['product', 'good'], ['came', 'with', 'a', 'free', 'mascara', 'so', 'it', 'was', 'a', 'great', 'deal'], ['great', 'price', 'during', 'flash', 'deal!'], ['will', 'buy', 'it', 'next', 'time'], ['received', 'in', 'good', 'condition'], ['very', 'fast', 'delivery'], ['delivery', 'is', 'pretty', 'fast'], ['receive', 'within', '1', 'week'], ['well', 'packed'], ['comes', 'with', 'free', 'mascara'], ['received', 'in', 'good', 'condition'], ['fast', 'delivery-thanks', 'seller'], ['received', 'today,', 'hope', 'it', 'work', 'well.'], ['bought', 'wrong', 'shade.'], ['try', 'refunding', 'but', 'they', 'rejected..'], ['fast', 'delivery'], ['foundation', 'came', 'sealed'], ['good', 'that', 'it', 'has', 'a', 'pump'], ['delivery', 'took', 'way', 'longer', 'than', 'expected', 'for', 'domestic', 'delivery', '-', 'more', 'than', '2', 'weeks'], ['received', 'in', 'good', 'condition'], ['not', 'bad', 'shipping'], ['ordered', 'on', '2/9', 'received', '9/9'], ['bottle', 'is', 'new', 'and', 'sealed'], ['one', 'of', 'the', 'quickest', 'delivered', 'item', 'i', 'ordered', 'in', 'shoppe'], ['i', 'got', 'this', 'in', 'less', 'than', '2', 'days', 'upon', 'placing', 'the', 'order'], ['so', 'delighted', 'with', 'fast', 'turnaround'], ['fast', 'delivery'], ['item', 'came', 'as', 'described'], ['very', 'fast', 'delivery'], ['packaging', 'is', 'safe.'], ['product', 'well', 'packed', 'with', 'bubble', 'bag'], ['good', 'coverage', 'nice', 'colour', 'tone'], ['skin', 'feel', 'refreshed'], ['good', 'buy'], ['waited', 'for', 'more', 'than', '2', 'weeks', 'to', 'receive', 'my', 'item'], ['bought', 'yesterday', 'and', 'received', 'today'], ['too', 'yellow.'], ['received', 'the', 'following', 'day'], ['manufacturing', 'date', 'is', '6', 'months', 'ago'], ['great', 'seller'], ['really', 'fast', 'delivery'], ['looks', 'more', 'yellow', 'toned', 'in', 'picture', 'than', 'in', 'real', 'life'], ['delivery', 'too', 'awhile', 'too'], ['didnâ€™t', 'get', 'the', 'free', 'gift', 'though'], ['niceeeeeeeeeeeeeeeeeeee....\\r\\n', 'worth', 'itttttttttttttttttt....'], ['very', 'fast.'], ['and', 'try', 'pack', 'properly', '.'], ['i', 'will', 'order', 'again'], ['order', 'came', 'in', 'good', 'condition', 'in', 'a', 'bubble', 'package'], ['thank', 'you', 'for', 'the', 'free', 'bottles', 'of', 'makeup', 'remover!'], ['look', 'like', 'the', 'one', 'seen', 'in', 'guardian', 'and', 'watson'], ['glad', 'to', 'buy', 'it', 'during', 'the', 'offer'], ['super', 'fast', 'delivery,', 'within', '2', 'days'], ['quite', 'matte', 'and', 'smooth'], ['love', 'it!'], ['good', 'deal,', 'just', 'the', 'foundation', 'is', 'transferable'], ['bought', 'the', 'wrong', 'shade', ':(', 'its', 'too', 'dark', ':('], ['fast', 'delivery'], ['come', 'well', 'packaged'], ['foundation', 'has', 'a', 'pump'], ['super', 'fast', 'delivery'], ['good', 'deal'], ['love', 'the', 'new', 'pumps', 'as', 'well'], ['good', 'buy!'], ['fast', 'delivery', 'and', 'item', 'is', 'goooooood'], ['my', 'favourite', 'liquid', 'foundation,', 'now', 'with', 'pump!'], ['so', 'glad', 'this', 'amazing', 'foundation', 'finally', 'comes', 'with', 'a', 'pump'], ['highly', 'recommended!'], ['omg', 'i', 'love', 'it', 'especially', 'in', 'the', 'pump', 'form!!'], ['item', 'received', 'in', 'good', 'condition'], ['super', 'fast', 'delivery', 'ðÿ‘\\x8dðÿ\\x8f¼'], ['received', 'in', 'a', 'good', 'condition', 'as', 'the', 'bottle', 'is', 'wrapped', 'in', 'a', 'bubble', 'wrap'], ['return', 'customer', 'ðÿ‘\\x8d'], ['yay', 'love', 'the', 'pump'], ['items', 'were', 'well', 'received', 'and', 'well', 'wrapped'], ['will', 'definitely', 'purchase', 'again'], ['items', 'well', 'packaged', 'and', 'fast', 'delivery', 'within', '2', 'days'], ['very', 'very', 'fast', 'shipping'], ['cheaper', 'then', 'retail', 'store,', 'buy', 'it.'], ['item', 'receive', 'in', 'good', 'condition.'], ['very', 'fast', 'delivery', 'ðÿ‘\\x8d'], ['it', 'is', 'exactly', 'as', 'described'], ['have', 'been', 'using', 'this', 'for', 'some', 'time'], ['fast', 'delivery', 'and', 'in', 'good', 'condition'], ['did', 'not', 'get', 'the', 'makeup', 'remover'], ['fast', 'delivery'], ['exact', 'shade'], ['fast', 'delivery'], ['product', 'was', 'well', 'packaged,', 'items', 'received', 'in', 'good', 'condition'], ['bought', 'two', 'during', 'promotion'], ['loving', 'the', 'durability', 'and', 'colours!'], ['repeated', 'purchase', 'from', 'this', 'seller'], ['came', 'on', 'time', 'and', 'fast', 'delivery!'], ['item', 'well', 'received,', 'very', 'fast', 'delivery!!'], ['will', 'buy', 'again'], ['nicely', 'packaged', 'well', 'protected'], ['timely', 'delivery'], ['well', 'received', 'the', 'product'], ['nice', 'colour', 'but', 'doesnâ€™t', 'stay', 'at', 'all..'], ['disappointed'], ['delivery', 'took', 'awhile', '(ordered', 'during', '11/11)'], ['tried', 'on', 'hand'], ['colour', 'stayed', 'on', 'very', 'well', 'despite', 'washing'], ['got', 'what', 'i', 'ordered', 'and', 'it', 'came', 'with', 'a', 'free', 'make', 'up', 'remover'], ['but', 'itâ€™s', 'pretty', 'disappointing', 'because', 'it', 'took', '11', 'days', 'before', 'the', 'item', 'was', 'delivered', 'to', 'me'], ['i', 'love', 'it', 'ðÿ¥°'], ['thicker', 'than', 'expected', 'but', 'does', 'what', 'is', 'advertised', 'and', 'does', 'not', 'transfer'], ['lovely', 'colour'], ['bright', 'and', 'vibrant', 'red.'], ['always', 'buy', 'during', 'a', 'sale', 'at', 'a', 'good', 'price', ':)', 'very', 'happy', 'with', 'my', 'purchase..'], ['fast', 'delivery!', 'ordered', 'on', 'the', '29oct', 'and', 'received', 'on', '2nov!', ':)'], ['delivery', 'was', 'fast'], ['competitive', 'price', 'and', 'the', 'freebies', 'came', 'on', 'the', 'promotional', 'day'], ['worth', 'the', 'purchase'], ['product', 'is', 'good', 'as', 'we', 'know'], ['item', 'took', 'about', '3-4', 'days.'], ['fast', 'delivery', 'and', 'very', 'well', 'packed'], ['received', 'it', 'well', 'for', 'my', 'wife'], ['received', '31st', 'oct', 'in', 'good', 'condition'], ['colour', 'is', 'true', 'to', 'photos'], ['bought', '4', 'because', 'had', 'discount'], ['maybe', \"won't\", 'put', 'so', 'much', 'next', 'time'], ['item', 'received', 'in', 'good', 'condition'], ['havent', 'tried', 'the', 'item', 'so', 'cant', 'comment', 'on', 'the', 'quality'], ['already', 'owned', '6', 'of', 'them'], ['last', 'really', 'long,', 'longer', 'than', 'my', 'relationships'], ['to', 'speed', 'up', 'the', 'process,', 'lick', 'your', 'lips', \"(nikkietutorial's\", 'tip)'], [\"it's\", 'more', 'orangy', 'than', 'red', 'but', 'it', 'really', 'stays', 'on', 'so', 'you', 'have', 'to', 'use', 'those', 'waterproof', 'make', 'up', 'remover', 'to', 'get', 'it', 'out'], ['i', 'like', 'this', 'lipstick.'], ['really', 'superstay'], ['delivery', 'quiet', 'fast'], ['will', 'definitely', 'buy', 'more', 'colours'], ['also', 'love', 'the', 'key', 'ring'], ['very', 'fast', 'delivery,', 'order', 'arrived', 'the', 'next', 'day!'], ['super', 'worth', 'the', 'price'], ['very', 'pigmented.'], ['orangey', 'shade'], ['repeated', 'order'], ['delivery', 'is', 'fast', 'as', 'usual'], ['i', 'like', 'crayon', 'matte', 'than', 'superstay', 'matte'], ['havenâ€™t', 'tried', 'it', 'yet', 'but', 'received', 'the', 'product', 'in', 'sealed', 'good', 'condition!'], ['feel', 'very', 'dry', 'on', 'my', 'lips', 'but', 'the', 'colour', 'is', 'really', 'long', 'lasting'], ['authentic'], ['manufacturing', 'date', 'was', 'early', '2019', '(not', 'bad!)'], ['very', 'fast', 'delivery.'], ['happy', 'with', 'this', 'purchase'], ['would', 'recommend.'], ['fast', 'delivery!!'], ['loving', 'the', 'matte', 'new', 'lippy'], ['the', 'colour', 'is', 'really', 'vibrant', 'and', 'the', 'best', 'of', 'all', 'it', 'is', 'really', 'long', 'lasting'], ['happy', 'with', 'purchase', '~', 'also', 'delivery', 'was', 'quick.\\r\\n', 'have', 'yet', 'to', 'try', 'the', 'foundation'], ['love', 'this', 'lipstick', '115'], ['ðÿ‘„yes', 'proven', 'superstay', 'ðÿ˜šðÿ˜\\x8d', 'ðÿ‘\\x8d'], ['product', 'looks', 'the', 'same', 'as', 'those', 'in', \"watson's\"], ['love', 'it!!'], ['items', 'received', 'in', 'bubble', 'wrap'], ['fast', 'delivery'], ['the', 'product', 'came', 'in', 'good', 'condition', 'in', 'proper', 'packaging'], ['fast', 'delivery'], ['love', 'the', 'colours', 'n', 'much', 'cheaper', 'than', 'retail'], ['the', 'colour', 'really', 'can', 'stay', 'for', 'the', 'whole', 'day', 'even', 'after', 'food'], ['fast', 'and', 'prompt'], ['fast', 'delivery', 'and', 'came', 'nicely', 'packed!'], ['my', 'fav', 'lipstick', 'of', 'all', 'time'], ['very', 'lasting'], ['im', 'looking', 'to', 'buy', 'most', 'of', 'the', 'shades!'], ['bought', 't', 'as', 'a', 'gift'], ['received', 'well', 'in', 'time'], ['no', 'opinion', 'on', 'how', 'it', 'looks', 'yet'], ['hope', 'that', 'it', 'works', 'fine'], ['lipsticks', 'mfg', 'dated', '2019', 'except', 'for', 'the', 'free', 'gift', 'on', 'shade', 'protector', '85', 'is', 'on', '2018'], ['love', 'the', 'lipstick', 'i', 'bought', 'with', 'that', '50%', 'off', 'second', 'pc'], ['order', 'came', 'super', 'fast'], ['item', 'came', 'quickly'], ['really', \"can't\", 'wait', 'to', 'use', 'it'], ['i', 'really', 'love', 'this', 'range', 'of', 'lipstick'], ['received', 'in', '10', 'days'], ['good', 'deal!!'], ['good', 'buy..'], ['got', 'each', 'lipstick', 'for', 'almost', 'half', 'the', 'price....'], ['nice', 'reddish', 'brown', 'shade'], ['very', 'pigmented'], ['received', 'product', 'in', 'good', 'condition', '&', 'fast', 'delivery'], ['bought', 'this', 'as', 'there', 'are', 'lots', 'of', 'good', 'review', 'on', 'this'], ['major', 'love', 'for', 'the', 'superstay', 'lipstick', 'range'], ['legit', 'lasts', 'a', 'long', 'time'], ['excited', 'to', 'try', 'out', 'these', 'new', 'colours.'], ['nice', 'colour', 'with', 'a', 'shea', 'butter', 'scent'], ['not', 'a', 'very', 'comfortable', 'feeling'], ['love', 'this', 'color'], ['just', 'the', 'applicator', 'is', 'abit', 'hard'], ['received', 'earlier', 'than', 'expected'], ['value', 'for', 'money', ':)'], ['nice'], ['nice'], ['it', \"won't\", 'stick', 'to', 'the', 'cup'], [\"doesn't\", 'transfer', 'as', 'well'], ['will', 'purchase', 'more', 'after', 'a', 'few', 'more', 'usages'], ['love', 'the', 'colour'], ['fast', 'delivery'], ['good', 'product'], ['order', 'was', 'shipped', 'out', 'the', 'next', 'day'], ['highly', 'recommend', 'when', 'there', 'is', 'sale', 'for', 'products!'], ['it', 'seriously', 'lasts', 'forever'], ['fast', 'delivery'], ['good', 'product'], ['i', 'purchased', 'the', 'items', 'during', 'sale'], ['it', 'took', 'like', 'almost', '2', 'weeks', 'to', 'arrive'], ['love'], ['item', 'receieved', 'in', 'good', 'condition'], ['nice', 'product.'], ['received', 'in', 'good', 'condition'], ['last', 'very', 'long!'], ['fast', 'delivery'], ['would', 'give', 'zero', 'star', 'if', 'i', 'could.'], ['i', 'love', 'the', 'colour'], ['super', 'long', 'lasting'], ['delivery', 'cane', 'with', 'bubble', 'wrap'], ['fast', 'delivery'], ['items', 'received', 'earlier', 'than', 'expected'], ['love', 'the', 'items!'], ['not', 'as', 'expected'], ['amazing', 'staying', 'power'], ['repeat', 'customer', 'of', 'this', 'concealer', 'as', 'it', 'works', 'well'], ['travel', 'size', 'product'], ['bought', 'on', 'bhalf', 'of', 'friend'], ['cant', 'rate', 'it', 'personally.'], ['never', 'tried', 'pdts', 'b4'], ['very', 'bad'], ['fast', 'delivery'], ['seller', 'sent', 'free', 'gift', '^^!!'], ['received', 'order', 'as', 'described'], ['good', 'buy'], ['fast', 'delivery'], ['will', 'buy', 'again.'], ['brand', 'new!!!'], ['good', 'deal'], ['like', 'sponge', 'applicator'], ['its', 'half', 'of', 'the', 'retail', 'size', 'for', 'this', 'purchase', 'n', 'so', 'is', 'price.'], ['love', 'the', 'size', 'of', 'make', 'up', 'remover'], ['favourite', 'concealer'], ['worth', 'it', 'for', 'the', 'price', 'paid', 'plus', 'it', 'covers.................'], ['excellent', 'buy', 'and', 'worth', 'it!!!!!!!!!!'], ['received', 'within', 'a', 'week'], ['will', 'buy', 'again', 'ans', 'its', 'cheaper', 'then', 'retail', 'shop'], ['mini', 'makeup', 'remover', 'is', 'good', 'for', 'travelling'], ['as', 'for', 'the', 'concealer', 'it', 'will', 'be', 'my', 'first', 'time', 'trying', 'it.'], ['fast', 'delivery'], ['will', 'purchase', 'again', 'as', 'its', 'cheaper', 'then', 'buying', 'in', 'outlet'], ['item', 'came', 'in', 'bubble', 'wrap'], ['looks', 'authentic'], ['item', 'received', 'in', 'good', 'condition'], ['will', 'purchase', 'again.'], ['fast', 'delivery'], ['will', 'buy', 'again'], ['came', 'w', 'free', 'mini', 'size', 'make', 'up', 'remover', 'which', 'is', 'good', 'for', 'traveling'], ['fav', 'concealer'], ['very', 'poor', 'level', 'of', 'service'], ['hope', 'that', 'it', 'is', 'good'], ['fast', 'delivery'], ['good', 'value', 'deal'], ['full', 'coverage'], ['only', 'delivered', 'after', '18', 'days'], ['bought', 'during', '10.10', '..value', 'for', 'money', 'and', 'highly', 'recommended.'], ['very', 'fast', 'delivery'], ['wondering', 'has', 'they', 'changed', 'packaging'], ['hope', 'i', 'has', 'not', 'bought', 'a', 'fake', 'one.'], ['really', 'fast', 'shipping', '-', 'ordered', 'on', '10', 'oct', 'and', 'received', 'on', '12', 'oct'], ['fast', 'delivery', 'too'], ['received', 'in', '1', 'day!', ':)'], ['hope', 'the', 'colour', 'suits', 'me'], ['fast', 'delivery'], ['authentic', 'item'], ['thank', 'you', 'seller.'], ['fast', 'delivery'], ['well', 'packed'], ['thanks', 'will', 'ordered', 'again'], ['fast', 'delivery'], ['i', 'swear', 'by', 'the', 'maybelline', 'age', 'rewind', 'concealer', 'is', 'the', 'best', 'concealer', 'ever', 'â\\x9d¤ï¸\\x8f'], ['delivery', 'was', 'fast'], ['much', 'cheaper', 'than', 'in', 'stores!'], ['love', 'this', 'concealer!', 'very', 'good!', 'i', 'will', 'definitely', 'repurchase', 'again', 'ðÿ‘\\x8dðÿ\\x8f»ðÿ‘\\x8dðÿ\\x8f»ðÿ‘\\x8dðÿ\\x8f»'], ['order', 'received', 'in', 'good', 'condition', 'and', 'got', 'the', 'right', 'shade'], ['delivery', 'time', 'was', 'also', 'not', 'too', 'long.'], ['did', 'not', 'receive', 'free', 'gifts'], ['always', 'like', 'the', 'maybelline', 'concealer.............................'], ['received', 'in', 'good', 'condition'], ['receive', 'it', 'in', 'a', 'good', 'condition'], ['fast', 'delivery'], ['very', 'fast', 'shipping,', 'thank', 'you'], ['will', 'purchase', 'again.'], ['did', 'not', 'come', 'with', 'the', 'makeup', 'remover', 'as', 'promised'], ['delivery', 'also', 'took', 'very', 'long'], ['product', 'itself', 'is', 'okay'], ['fast', 'delivery'], ['good', 'product'], ['best', 'drugstore', 'concealer'], ['my', '5th', 'purchase'], ['love', 'it'], ['properly', 'wrapped'], ['efficient', 'delivery'], ['it', 'is', 'exactly', 'as', 'described'], ['have', 'been', 'using', 'this', 'for', 'some', 'time'], ['good!'], ['order', 'yesterday', 'received', 'today', 'so', 'fast', 'delivery'], ['great', 'product'], ['love', 'this', 'concealer'], [':)'], ['item', 'well', 'received'], ['delivery', 'took', '4', 'days'], ['bought', 'during', 'flash', 'sales'], ['worth', 'it'], ['but', 'the', 'manufacturing', 'date', 'is', 'quite', 'old', 'compared', 'to', 'the', 'one', 'i', 'bought', 'in', 'stores', 'months', 'ago!'], ['fast', 'delivery', 'got', 'notife', 'from', 'driver', 'also..nice', 'package', '.'], ['but', 'not', 'try', 'yet.'], ['hopefully', 'not', 'to', 'dark', 'than', 'my', 'foundation......'], ['bought', 'this', 'during', 'promo', 'period', 'for', '$11.90'], ['good', 'buy!'], [\"didn't\", 'expect', 'the', 'item', 'to', 'be', 'such', 'small', 'haha.'], ['very', 'happy', 'with', 'the', 'purchase'], ['item', 'received', 'in', 'good', 'condition'], ['however,', 'did', 'not', 'receive', 'the', 'free', 'lipstick', 'that', 'is', 'supposed', 'to', 'come', 'together', 'with', 'this', 'concealer'], ['disappointed'], ['fast', 'delivery'], ['items', 'came', 'about', 'a', 'week', 'after', 'ordering'], ['great', 'for', 'concealing'], ['delivery', 'took', 'about', 'one', 'week', 'to', 'arrive'], ['customer', 'service', 'needs', 'more', 'time', 'to', 'get', 'back', 'to', 'my', 'enquiries'], ['love', 'love', 'love', 'this', 'product'], ['exact', 'same', 'as', 'the', 'ones', 'in', 'stores'], ['packaging', 'came', 'undamaged', 'too'], ['multiple', 'buys', 'on', 'different', 'occasions'], ['always', 'satisfied'], ['packaging', 'upgraded'], ['second', 'time', 'making', 'this', 'purchase']]\n"
     ]
    }
   ],
   "source": [
    "data_file = \"SHOPEE_MAYBELLINE_CLEAN_V2.csv\"\n",
    "data = pd.read_csv(data_file)\n",
    "data.columns = data.columns.str.strip().str.replace(\" \",\"_\") # reason for doing this is cause cannot get columns with space into a list\n",
    "# data.info()\n",
    "# data.head()\n",
    "\n",
    "# data.drop(columns=['Brand','Category','Product_Name','Price','Reviewer','Product_Purchase','Ratings','Date_Of_Review','Response', 'Topic'])\n",
    "# review_list = data['Review'].tolist()\n",
    "# polarity_list = data['Polarity'].tolist()\n",
    "\n",
    "reviews = data['Review']\n",
    "# polarity = data['Polarity']\n",
    "# print (reviews)\n",
    "\n",
    "review_docs = []\n",
    "for each_reviews in reviews:\n",
    "    temp = each_reviews.split(\" \")\n",
    "    review_docs.append(temp)\n",
    "print (review_docs)\n",
    "\n",
    "# Make sure all words are in lowercase\n",
    "reviews_lower = [[each_word.lower() for each_word in each_review] for each_review in review_docs]\n",
    "# print (reviews_lower)\n",
    "\n",
    "# Use regular expressions to keep only allphabetical words\n",
    "reviews_alpha = [[each_word for each_word in each_review if re.search('^[a-z]+$', each_word)] for each_review in reviews_lower]\n",
    "# print (reviews_alpha)\n",
    "\n",
    "# Remove stop words\n",
    "stop_list = stopwords.words('english')\n",
    "reviews_stop = [[each_word for each_word in each_review if each_word not in stop_list] for each_review in reviews_alpha]\n",
    "# print (reviews_stop)\n",
    "\n",
    "# Porter Stemming\n",
    "stemmer = PorterStemmer()\n",
    "reviews_stem = [[stemmer.stem(each_word) for each_word in each_review] for each_review in reviews_stop]\n",
    "# print (reviews_stem)\n",
    "\n",
    "all_data_cleaned = []\n",
    "for each_sentence in reviews_stem:\n",
    "    sentence = \"\"\n",
    "    for each_word in each_sentence:\n",
    "        sentence += each_word + \" \"\n",
    "    sentence = sentence[0:-1]\n",
    "    all_data_cleaned.append(sentence)\n",
    "# print (all_data_cleaned)\n",
    "\n",
    "reviews = all_data_cleaned\n",
    "polarity = data['Polarity']\n",
    "\n",
    "X_train, X_test, y_train, y_test = train_test_split(reviews, polarity, test_size=0.2, random_state=42)\n",
    "     \n"
   ]
  },
  {
   "cell_type": "markdown",
   "metadata": {},
   "source": [
    "### Building the Model"
   ]
  },
  {
   "cell_type": "code",
   "execution_count": 100,
   "metadata": {},
   "outputs": [
    {
     "name": "stdout",
     "output_type": "stream",
     "text": [
      "Model: \"sequential_10\"\n",
      "_________________________________________________________________\n",
      "Layer (type)                 Output Shape              Param #   \n",
      "=================================================================\n",
      "dense_7 (Dense)              (None, 10)                3680      \n",
      "_________________________________________________________________\n",
      "dense_8 (Dense)              (None, 1)                 11        \n",
      "=================================================================\n",
      "Total params: 3,691\n",
      "Trainable params: 3,691\n",
      "Non-trainable params: 0\n",
      "_________________________________________________________________\n"
     ]
    }
   ],
   "source": [
    "dictionary = corpora.Dictionary(reviews_stem)\n",
    "# print (dictionary)\n",
    "max_sequence_length = (len(dictionary))\n",
    "\n",
    "model = tf.keras.Sequential()\n",
    "# model.add(layers.Conv2D(4, kernel_size = (5,5), \n",
    "#                         activation='relu', \n",
    "#                         input_shape=(max_sequence_length,)))\n",
    "model.add(layers.Dense(10, input_shape = (max_sequence_length, ), activation='softmax'))\n",
    "model.add(layers.Dense(1, activation = 'softmax'))\n",
    "model.summary()\n"
   ]
  },
  {
   "cell_type": "code",
   "execution_count": 101,
   "metadata": {},
   "outputs": [],
   "source": [
    "model.compile(optimizer=tf.optimizers.Adam(), \n",
    "              loss='sparse_categorical_crossentropy',\n",
    "              metrics=['accuracy'])"
   ]
  },
  {
   "cell_type": "code",
   "execution_count": 102,
   "metadata": {},
   "outputs": [
    {
     "ename": "ValueError",
     "evalue": "Failed to find data adapter that can handle input: (<class 'list'> containing values of types {\"<class 'str'>\"}), <class 'pandas.core.series.Series'>",
     "output_type": "error",
     "traceback": [
      "\u001b[1;31m---------------------------------------------------------------------------\u001b[0m",
      "\u001b[1;31mValueError\u001b[0m                                Traceback (most recent call last)",
      "\u001b[1;32m<ipython-input-102-eaa183527688>\u001b[0m in \u001b[0;36m<module>\u001b[1;34m\u001b[0m\n\u001b[0;32m      1\u001b[0m \u001b[0mepochs\u001b[0m \u001b[1;33m=\u001b[0m \u001b[1;36m1\u001b[0m\u001b[1;33m\u001b[0m\u001b[1;33m\u001b[0m\u001b[0m\n\u001b[0;32m      2\u001b[0m \u001b[0mbatch_size\u001b[0m \u001b[1;33m=\u001b[0m \u001b[1;36m16\u001b[0m\u001b[1;33m\u001b[0m\u001b[1;33m\u001b[0m\u001b[0m\n\u001b[1;32m----> 3\u001b[1;33m \u001b[0mmodel\u001b[0m\u001b[1;33m.\u001b[0m\u001b[0mfit\u001b[0m\u001b[1;33m(\u001b[0m\u001b[0mX_train\u001b[0m\u001b[1;33m,\u001b[0m \u001b[0my_train\u001b[0m\u001b[1;33m,\u001b[0m \u001b[0mbatch_size\u001b[0m\u001b[1;33m=\u001b[0m\u001b[0mbatch_size\u001b[0m\u001b[1;33m,\u001b[0m \u001b[0mepochs\u001b[0m\u001b[1;33m=\u001b[0m\u001b[0mepochs\u001b[0m\u001b[1;33m)\u001b[0m\u001b[1;33m\u001b[0m\u001b[1;33m\u001b[0m\u001b[0m\n\u001b[0m",
      "\u001b[1;32m~\\Anaconda3\\lib\\site-packages\\tensorflow_core\\python\\keras\\engine\\training.py\u001b[0m in \u001b[0;36mfit\u001b[1;34m(self, x, y, batch_size, epochs, verbose, callbacks, validation_split, validation_data, shuffle, class_weight, sample_weight, initial_epoch, steps_per_epoch, validation_steps, validation_freq, max_queue_size, workers, use_multiprocessing, **kwargs)\u001b[0m\n\u001b[0;32m    726\u001b[0m         \u001b[0mmax_queue_size\u001b[0m\u001b[1;33m=\u001b[0m\u001b[0mmax_queue_size\u001b[0m\u001b[1;33m,\u001b[0m\u001b[1;33m\u001b[0m\u001b[1;33m\u001b[0m\u001b[0m\n\u001b[0;32m    727\u001b[0m         \u001b[0mworkers\u001b[0m\u001b[1;33m=\u001b[0m\u001b[0mworkers\u001b[0m\u001b[1;33m,\u001b[0m\u001b[1;33m\u001b[0m\u001b[1;33m\u001b[0m\u001b[0m\n\u001b[1;32m--> 728\u001b[1;33m         use_multiprocessing=use_multiprocessing)\n\u001b[0m\u001b[0;32m    729\u001b[0m \u001b[1;33m\u001b[0m\u001b[0m\n\u001b[0;32m    730\u001b[0m   def evaluate(self,\n",
      "\u001b[1;32m~\\Anaconda3\\lib\\site-packages\\tensorflow_core\\python\\keras\\engine\\training_v2.py\u001b[0m in \u001b[0;36mfit\u001b[1;34m(self, model, x, y, batch_size, epochs, verbose, callbacks, validation_split, validation_data, shuffle, class_weight, sample_weight, initial_epoch, steps_per_epoch, validation_steps, validation_freq, **kwargs)\u001b[0m\n\u001b[0;32m    222\u001b[0m           \u001b[0mvalidation_data\u001b[0m\u001b[1;33m=\u001b[0m\u001b[0mvalidation_data\u001b[0m\u001b[1;33m,\u001b[0m\u001b[1;33m\u001b[0m\u001b[1;33m\u001b[0m\u001b[0m\n\u001b[0;32m    223\u001b[0m           \u001b[0mvalidation_steps\u001b[0m\u001b[1;33m=\u001b[0m\u001b[0mvalidation_steps\u001b[0m\u001b[1;33m,\u001b[0m\u001b[1;33m\u001b[0m\u001b[1;33m\u001b[0m\u001b[0m\n\u001b[1;32m--> 224\u001b[1;33m           distribution_strategy=strategy)\n\u001b[0m\u001b[0;32m    225\u001b[0m \u001b[1;33m\u001b[0m\u001b[0m\n\u001b[0;32m    226\u001b[0m       \u001b[0mtotal_samples\u001b[0m \u001b[1;33m=\u001b[0m \u001b[0m_get_total_number_of_samples\u001b[0m\u001b[1;33m(\u001b[0m\u001b[0mtraining_data_adapter\u001b[0m\u001b[1;33m)\u001b[0m\u001b[1;33m\u001b[0m\u001b[1;33m\u001b[0m\u001b[0m\n",
      "\u001b[1;32m~\\Anaconda3\\lib\\site-packages\\tensorflow_core\\python\\keras\\engine\\training_v2.py\u001b[0m in \u001b[0;36m_process_training_inputs\u001b[1;34m(model, x, y, batch_size, epochs, sample_weights, class_weights, steps_per_epoch, validation_split, validation_data, validation_steps, shuffle, distribution_strategy, max_queue_size, workers, use_multiprocessing)\u001b[0m\n\u001b[0;32m    495\u001b[0m                      'at same time.')\n\u001b[0;32m    496\u001b[0m \u001b[1;33m\u001b[0m\u001b[0m\n\u001b[1;32m--> 497\u001b[1;33m   \u001b[0madapter_cls\u001b[0m \u001b[1;33m=\u001b[0m \u001b[0mdata_adapter\u001b[0m\u001b[1;33m.\u001b[0m\u001b[0mselect_data_adapter\u001b[0m\u001b[1;33m(\u001b[0m\u001b[0mx\u001b[0m\u001b[1;33m,\u001b[0m \u001b[0my\u001b[0m\u001b[1;33m)\u001b[0m\u001b[1;33m\u001b[0m\u001b[1;33m\u001b[0m\u001b[0m\n\u001b[0m\u001b[0;32m    498\u001b[0m \u001b[1;33m\u001b[0m\u001b[0m\n\u001b[0;32m    499\u001b[0m   \u001b[1;31m# Handle validation_split, we want to split the data and get the training\u001b[0m\u001b[1;33m\u001b[0m\u001b[1;33m\u001b[0m\u001b[1;33m\u001b[0m\u001b[0m\n",
      "\u001b[1;32m~\\Anaconda3\\lib\\site-packages\\tensorflow_core\\python\\keras\\engine\\data_adapter.py\u001b[0m in \u001b[0;36mselect_data_adapter\u001b[1;34m(x, y)\u001b[0m\n\u001b[0;32m    651\u001b[0m         \u001b[1;34m\"Failed to find data adapter that can handle \"\u001b[0m\u001b[1;33m\u001b[0m\u001b[1;33m\u001b[0m\u001b[0m\n\u001b[0;32m    652\u001b[0m         \"input: {}, {}\".format(\n\u001b[1;32m--> 653\u001b[1;33m             _type_name(x), _type_name(y)))\n\u001b[0m\u001b[0;32m    654\u001b[0m   \u001b[1;32melif\u001b[0m \u001b[0mlen\u001b[0m\u001b[1;33m(\u001b[0m\u001b[0madapter_cls\u001b[0m\u001b[1;33m)\u001b[0m \u001b[1;33m>\u001b[0m \u001b[1;36m1\u001b[0m\u001b[1;33m:\u001b[0m\u001b[1;33m\u001b[0m\u001b[1;33m\u001b[0m\u001b[0m\n\u001b[0;32m    655\u001b[0m     raise RuntimeError(\n",
      "\u001b[1;31mValueError\u001b[0m: Failed to find data adapter that can handle input: (<class 'list'> containing values of types {\"<class 'str'>\"}), <class 'pandas.core.series.Series'>"
     ]
    }
   ],
   "source": [
    "epochs = 1\n",
    "batch_size = 16\n",
    "model.fit(X_train, y_train, batch_size=batch_size, epochs=epochs)"
   ]
  }
 ],
 "metadata": {
  "kernelspec": {
   "display_name": "Python 3",
   "language": "python",
   "name": "python3"
  },
  "language_info": {
   "codemirror_mode": {
    "name": "ipython",
    "version": 3
   },
   "file_extension": ".py",
   "mimetype": "text/x-python",
   "name": "python",
   "nbconvert_exporter": "python",
   "pygments_lexer": "ipython3",
   "version": "3.7.3"
  }
 },
 "nbformat": 4,
 "nbformat_minor": 2
}
